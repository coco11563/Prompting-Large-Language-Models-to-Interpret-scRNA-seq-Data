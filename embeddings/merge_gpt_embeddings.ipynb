{
 "cells": [
  {
   "cell_type": "code",
   "execution_count": 1,
   "metadata": {},
   "outputs": [],
   "source": [
    "import os\n",
    "import json\n",
    "import pickle\n",
    "import numpy as np\n",
    "import pandas as pd\n",
    "from tqdm import tqdm\n",
    "\n",
    "import torch"
   ]
  },
  {
   "cell_type": "code",
   "execution_count": 8,
   "metadata": {},
   "outputs": [],
   "source": [
    "with open(\"./human_embeddings.pkl\", 'rb') as file:\n",
    "    human_emb = pickle.load(file)\n",
    "with open(\"./mouse_embeddings.pkl\", 'rb') as file:\n",
    "    mouse_emb = pickle.load(file)\n",
    "\n",
    "import copy\n",
    "emb = copy.deepcopy(human_emb)\n",
    "\n",
    "emb.update(mouse_emb)\n",
    "\n",
    "TOKEN_DICT_DIR = \"../../src/token_dictionary.csv\"\n",
    "token_dict = pd.read_csv(TOKEN_DICT_DIR)"
   ]
  },
  {
   "cell_type": "markdown",
   "metadata": {},
   "source": [
    "Stack human mouse embeddings\n",
    "\n",
    "Fill with means if this gene doesn't have an embedding"
   ]
  },
  {
   "cell_type": "code",
   "execution_count": 32,
   "metadata": {},
   "outputs": [
    {
     "name": "stderr",
     "output_type": "stream",
     "text": [
      "100%|██████████| 50556/50556 [00:00<00:00, 689647.29it/s]\n",
      "100%|██████████| 23111/23111 [00:01<00:00, 22025.99it/s]\n",
      "100%|██████████| 27443/27443 [00:01<00:00, 22523.24it/s]\n"
     ]
    }
   ],
   "source": [
    "length = len(list(emb.values())[0]['embedding'])\n",
    "ids = emb.keys()\n",
    "\n",
    "gpt_embeddings = []\n",
    "zero_mark = []\n",
    "for id in tqdm(token_dict[\"token_id\"][token_dict[\"ensembl_id\"].str.startswith((\"ENSG\", \"ENSMUSG\"))]):\n",
    "    if id in ids:\n",
    "        if 'embedding' in emb[id].keys():\n",
    "            gene_emb = emb[id]['embedding']\n",
    "        else:\n",
    "            gene_emb = emb[id]['gpt_embedding']\n",
    "    else:\n",
    "        gene_emb = [0.]*length\n",
    "        zero_mark.append(id)\n",
    "    gpt_embeddings.append(gene_emb)\n",
    "\n",
    "human_means = np.zeros(length)\n",
    "for k,v in tqdm(human_emb.items()):\n",
    "    if 'embedding' in v.keys():\n",
    "        human_means += v['embedding']\n",
    "    else:\n",
    "        human_means += v['gpt_embedding']\n",
    "human_means /= len(human_emb)\n",
    "human_means = human_means.tolist()\n",
    "\n",
    "mouse_means = np.zeros(length)\n",
    "for k,v in tqdm(mouse_emb.items()):\n",
    "    if 'embedding' in v.keys():\n",
    "        mouse_means += v['embedding']\n",
    "    else:\n",
    "        mouse_means += v['gpt_embedding']\n",
    "mouse_means /= len(mouse_emb)\n",
    "mouse_means = mouse_means.tolist()\n",
    "\n",
    "human_ids = token_dict[\"token_id\"][token_dict[\"ensembl_id\"].str.startswith(\"ENSG\")]\n",
    "mouse_ids = token_dict[\"token_id\"][token_dict[\"ensembl_id\"].str.startswith(\"ENSMUSG\")]\n",
    "\n",
    "for idx in zero_mark:\n",
    "    if idx in human_ids:\n",
    "        gpt_embeddings[idx] = human_means\n",
    "    elif idx in mouse_ids:\n",
    "        gpt_embeddings[idx] = mouse_means"
   ]
  },
  {
   "cell_type": "code",
   "execution_count": 33,
   "metadata": {},
   "outputs": [],
   "source": [
    "gpt_embeddings = torch.tensor(gpt_embeddings, dtype=torch.float32)\n",
    "torch.save(gpt_embeddings, \"../../src/gpt_embeddings.bin\")"
   ]
  }
 ],
 "metadata": {
  "kernelspec": {
   "display_name": "X",
   "language": "python",
   "name": "python3"
  },
  "language_info": {
   "codemirror_mode": {
    "name": "ipython",
    "version": 3
   },
   "file_extension": ".py",
   "mimetype": "text/x-python",
   "name": "python",
   "nbconvert_exporter": "python",
   "pygments_lexer": "ipython3",
   "version": "3.11.9"
  }
 },
 "nbformat": 4,
 "nbformat_minor": 2
}
